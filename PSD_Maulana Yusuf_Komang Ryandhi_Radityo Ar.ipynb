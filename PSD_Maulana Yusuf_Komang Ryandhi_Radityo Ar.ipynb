{
  "cells": [
    {
      "cell_type": "code",
      "execution_count": 76,
      "metadata": {
        "colab": {
          "base_uri": "https://localhost:8080/"
        },
        "id": "UJgF_gKYaLF7",
        "outputId": "cfb86d61-3a1f-42b9-a917-770ac16fe751"
      },
      "outputs": [
        {
          "name": "stdout",
          "output_type": "stream",
          "text": [
            "Requirement already satisfied: xgboost in c:\\users\\user\\appdata\\local\\packages\\pythonsoftwarefoundation.python.3.11_qbz5n2kfra8p0\\localcache\\local-packages\\python311\\site-packages (2.0.3)Note: you may need to restart the kernel to use updated packages.\n"
          ]
        },
        {
          "name": "stderr",
          "output_type": "stream",
          "text": [
            "\n",
            "[notice] A new release of pip is available: 24.0 -> 24.1\n",
            "[notice] To update, run: C:\\Users\\User\\AppData\\Local\\Microsoft\\WindowsApps\\PythonSoftwareFoundation.Python.3.11_qbz5n2kfra8p0\\python.exe -m pip install --upgrade pip\n"
          ]
        },
        {
          "name": "stdout",
          "output_type": "stream",
          "text": [
            "\n",
            "Requirement already satisfied: numpy in c:\\users\\user\\appdata\\local\\packages\\pythonsoftwarefoundation.python.3.11_qbz5n2kfra8p0\\localcache\\local-packages\\python311\\site-packages (from xgboost) (1.24.3)\n",
            "Requirement already satisfied: scipy in c:\\users\\user\\appdata\\local\\packages\\pythonsoftwarefoundation.python.3.11_qbz5n2kfra8p0\\localcache\\local-packages\\python311\\site-packages (from xgboost) (1.11.1)\n"
          ]
        }
      ],
      "source": [
        "pip install xgboost"
      ]
    },
    {
      "cell_type": "code",
      "execution_count": 77,
      "metadata": {
        "colab": {
          "base_uri": "https://localhost:8080/"
        },
        "id": "LnR4gtS4akR_",
        "outputId": "56adf463-8fe4-42cf-e386-cad8b042ff55"
      },
      "outputs": [
        {
          "name": "stdout",
          "output_type": "stream",
          "text": [
            "Collecting imblearn\n",
            "  Downloading imblearn-0.0-py2.py3-none-any.whl.metadata (355 bytes)\n",
            "Requirement already satisfied: imbalanced-learn in c:\\users\\user\\appdata\\local\\packages\\pythonsoftwarefoundation.python.3.11_qbz5n2kfra8p0\\localcache\\local-packages\\python311\\site-packages (from imblearn) (0.12.3)\n",
            "Requirement already satisfied: numpy>=1.17.3 in c:\\users\\user\\appdata\\local\\packages\\pythonsoftwarefoundation.python.3.11_qbz5n2kfra8p0\\localcache\\local-packages\\python311\\site-packages (from imbalanced-learn->imblearn) (1.24.3)\n",
            "Requirement already satisfied: scipy>=1.5.0 in c:\\users\\user\\appdata\\local\\packages\\pythonsoftwarefoundation.python.3.11_qbz5n2kfra8p0\\localcache\\local-packages\\python311\\site-packages (from imbalanced-learn->imblearn) (1.11.1)\n",
            "Requirement already satisfied: scikit-learn>=1.0.2 in c:\\users\\user\\appdata\\local\\packages\\pythonsoftwarefoundation.python.3.11_qbz5n2kfra8p0\\localcache\\local-packages\\python311\\site-packages (from imbalanced-learn->imblearn) (1.4.1.post1)\n",
            "Requirement already satisfied: joblib>=1.1.1 in c:\\users\\user\\appdata\\local\\packages\\pythonsoftwarefoundation.python.3.11_qbz5n2kfra8p0\\localcache\\local-packages\\python311\\site-packages (from imbalanced-learn->imblearn) (1.3.2)\n",
            "Requirement already satisfied: threadpoolctl>=2.0.0 in c:\\users\\user\\appdata\\local\\packages\\pythonsoftwarefoundation.python.3.11_qbz5n2kfra8p0\\localcache\\local-packages\\python311\\site-packages (from imbalanced-learn->imblearn) (3.3.0)\n",
            "Downloading imblearn-0.0-py2.py3-none-any.whl (1.9 kB)\n",
            "Installing collected packages: imblearn\n",
            "Successfully installed imblearn-0.0\n",
            "Note: you may need to restart the kernel to use updated packages.\n"
          ]
        },
        {
          "name": "stderr",
          "output_type": "stream",
          "text": [
            "WARNING: Retrying (Retry(total=4, connect=None, read=None, redirect=None, status=None)) after connection broken by 'ProtocolError('Connection aborted.', ConnectionResetError(10054, 'An existing connection was forcibly closed by the remote host', None, 10054, None))': /simple/imblearn/\n",
            "\n",
            "[notice] A new release of pip is available: 24.0 -> 24.1\n",
            "[notice] To update, run: C:\\Users\\User\\AppData\\Local\\Microsoft\\WindowsApps\\PythonSoftwareFoundation.Python.3.11_qbz5n2kfra8p0\\python.exe -m pip install --upgrade pip\n"
          ]
        }
      ],
      "source": [
        "pip install imblearn"
      ]
    },
    {
      "cell_type": "code",
      "execution_count": 78,
      "metadata": {},
      "outputs": [
        {
          "name": "stdout",
          "output_type": "stream",
          "text": [
            "Requirement already satisfied: imbalanced-learn in c:\\users\\user\\appdata\\local\\packages\\pythonsoftwarefoundation.python.3.11_qbz5n2kfra8p0\\localcache\\local-packages\\python311\\site-packages (0.12.3)\n",
            "Requirement already satisfied: numpy>=1.17.3 in c:\\users\\user\\appdata\\local\\packages\\pythonsoftwarefoundation.python.3.11_qbz5n2kfra8p0\\localcache\\local-packages\\python311\\site-packages (from imbalanced-learn) (1.24.3)\n",
            "Requirement already satisfied: scipy>=1.5.0 in c:\\users\\user\\appdata\\local\\packages\\pythonsoftwarefoundation.python.3.11_qbz5n2kfra8p0\\localcache\\local-packages\\python311\\site-packages (from imbalanced-learn) (1.11.1)\n",
            "Requirement already satisfied: scikit-learn>=1.0.2 in c:\\users\\user\\appdata\\local\\packages\\pythonsoftwarefoundation.python.3.11_qbz5n2kfra8p0\\localcache\\local-packages\\python311\\site-packages (from imbalanced-learn) (1.4.1.post1)\n",
            "Requirement already satisfied: joblib>=1.1.1 in c:\\users\\user\\appdata\\local\\packages\\pythonsoftwarefoundation.python.3.11_qbz5n2kfra8p0\\localcache\\local-packages\\python311\\site-packages (from imbalanced-learn) (1.3.2)\n",
            "Requirement already satisfied: threadpoolctl>=2.0.0 in c:\\users\\user\\appdata\\local\\packages\\pythonsoftwarefoundation.python.3.11_qbz5n2kfra8p0\\localcache\\local-packages\\python311\\site-packages (from imbalanced-learn) (3.3.0)\n",
            "Note: you may need to restart the kernel to use updated packages.\n"
          ]
        },
        {
          "name": "stderr",
          "output_type": "stream",
          "text": [
            "\n",
            "[notice] A new release of pip is available: 24.0 -> 24.1\n",
            "[notice] To update, run: C:\\Users\\User\\AppData\\Local\\Microsoft\\WindowsApps\\PythonSoftwareFoundation.Python.3.11_qbz5n2kfra8p0\\python.exe -m pip install --upgrade pip\n"
          ]
        }
      ],
      "source": [
        "pip install -U imbalanced-learn"
      ]
    },
    {
      "cell_type": "markdown",
      "metadata": {},
      "source": [
        "Tugas Pengantar Sains Data\n",
        "1. Maulana Yusuf Ikhsan Robbani (5002211167)\n",
        "2. Komang Ryandhi Suandita (5002211109)\n",
        "3. Radityo Ar Rasyid (5002211034)\n",
        "\n",
        "Source: https://www.kaggle.com/code/thegodchurch/voting-on-steriods"
      ]
    },
    {
      "cell_type": "code",
      "execution_count": 79,
      "metadata": {
        "execution": {
          "iopub.execute_input": "2024-06-21T15:02:04.790734Z",
          "iopub.status.busy": "2024-06-21T15:02:04.790332Z",
          "iopub.status.idle": "2024-06-21T15:02:04.799775Z",
          "shell.execute_reply": "2024-06-21T15:02:04.798864Z",
          "shell.execute_reply.started": "2024-06-21T15:02:04.790695Z"
        },
        "id": "T3mJS9SYFfeK",
        "trusted": true
      },
      "outputs": [],
      "source": [
        "import pandas as pd\n",
        "from sklearn.preprocessing import LabelEncoder, OneHotEncoder, StandardScaler\n",
        "from sklearn.model_selection import train_test_split, cross_val_score\n",
        "from sklearn.linear_model import LogisticRegression\n",
        "from sklearn.tree import DecisionTreeClassifier\n",
        "from sklearn.ensemble import RandomForestClassifier, GradientBoostingClassifier\n",
        "from xgboost import XGBClassifier\n",
        "from sklearn.metrics import accuracy_score, classification_report\n",
        "from imblearn.over_sampling import SMOTE\n",
        "import xgboost as xgb\n",
        "import seaborn as sns\n",
        "import matplotlib.pyplot as plt"
      ]
    },
    {
      "cell_type": "code",
      "execution_count": 80,
      "metadata": {
        "execution": {
          "iopub.execute_input": "2024-06-21T15:02:04.801194Z",
          "iopub.status.busy": "2024-06-21T15:02:04.800896Z",
          "iopub.status.idle": "2024-06-21T15:02:04.809749Z",
          "shell.execute_reply": "2024-06-21T15:02:04.808967Z",
          "shell.execute_reply.started": "2024-06-21T15:02:04.801153Z"
        },
        "id": "NuXucmolFfeK",
        "trusted": true
      },
      "outputs": [],
      "source": [
        "SEED = 27 #611240 for lgbm\n",
        "N_FOLDS = 5\n",
        "TARGET = 'Target'"
      ]
    },
    {
      "cell_type": "markdown",
      "metadata": {
        "id": "zvS-pgdPT0Os"
      },
      "source": [
        "List Model\n",
        "- Balanced Random Forest\n",
        "- Random Forest\n",
        "- Light GBM\n",
        "- Catboost\n"
      ]
    },
    {
      "cell_type": "code",
      "execution_count": 81,
      "metadata": {
        "execution": {
          "iopub.execute_input": "2024-06-21T15:02:04.811199Z",
          "iopub.status.busy": "2024-06-21T15:02:04.810873Z",
          "iopub.status.idle": "2024-06-21T15:02:05.215842Z",
          "shell.execute_reply": "2024-06-21T15:02:05.214962Z",
          "shell.execute_reply.started": "2024-06-21T15:02:04.811169Z"
        },
        "id": "ArhhugmuFfeL",
        "trusted": true
      },
      "outputs": [],
      "source": [
        "train=pd.read_csv('D:/Local Disk C/Python project/src/Tugas/EAS PSD/train.csv')\n",
        "test=pd.read_csv('D:/Local Disk C/Python project/src/Tugas/EAS PSD/test.csv')"
      ]
    },
    {
      "cell_type": "code",
      "execution_count": 82,
      "metadata": {
        "colab": {
          "base_uri": "https://localhost:8080/"
        },
        "id": "r9_2JaqpNMwQ",
        "outputId": "17b17c58-78cf-4fa3-f9f0-a6e8b35fde8c"
      },
      "outputs": [
        {
          "name": "stdout",
          "output_type": "stream",
          "text": [
            "<class 'pandas.core.frame.DataFrame'>\n",
            "RangeIndex: 76518 entries, 0 to 76517\n",
            "Data columns (total 38 columns):\n",
            " #   Column                                          Non-Null Count  Dtype  \n",
            "---  ------                                          --------------  -----  \n",
            " 0   id                                              76518 non-null  int64  \n",
            " 1   Marital status                                  76518 non-null  int64  \n",
            " 2   Application mode                                76518 non-null  int64  \n",
            " 3   Application order                               76518 non-null  int64  \n",
            " 4   Course                                          76518 non-null  int64  \n",
            " 5   Daytime/evening attendance                      76518 non-null  int64  \n",
            " 6   Previous qualification                          76518 non-null  int64  \n",
            " 7   Previous qualification (grade)                  76518 non-null  float64\n",
            " 8   Nacionality                                     76518 non-null  int64  \n",
            " 9   Mother's qualification                          76518 non-null  int64  \n",
            " 10  Father's qualification                          76518 non-null  int64  \n",
            " 11  Mother's occupation                             76518 non-null  int64  \n",
            " 12  Father's occupation                             76518 non-null  int64  \n",
            " 13  Admission grade                                 76518 non-null  float64\n",
            " 14  Displaced                                       76518 non-null  int64  \n",
            " 15  Educational special needs                       76518 non-null  int64  \n",
            " 16  Debtor                                          76518 non-null  int64  \n",
            " 17  Tuition fees up to date                         76518 non-null  int64  \n",
            " 18  Gender                                          76518 non-null  int64  \n",
            " 19  Scholarship holder                              76518 non-null  int64  \n",
            " 20  Age at enrollment                               76518 non-null  int64  \n",
            " 21  International                                   76518 non-null  int64  \n",
            " 22  Curricular units 1st sem (credited)             76518 non-null  int64  \n",
            " 23  Curricular units 1st sem (enrolled)             76518 non-null  int64  \n",
            " 24  Curricular units 1st sem (evaluations)          76518 non-null  int64  \n",
            " 25  Curricular units 1st sem (approved)             76518 non-null  int64  \n",
            " 26  Curricular units 1st sem (grade)                76518 non-null  float64\n",
            " 27  Curricular units 1st sem (without evaluations)  76518 non-null  int64  \n",
            " 28  Curricular units 2nd sem (credited)             76518 non-null  int64  \n",
            " 29  Curricular units 2nd sem (enrolled)             76518 non-null  int64  \n",
            " 30  Curricular units 2nd sem (evaluations)          76518 non-null  int64  \n",
            " 31  Curricular units 2nd sem (approved)             76518 non-null  int64  \n",
            " 32  Curricular units 2nd sem (grade)                76518 non-null  float64\n",
            " 33  Curricular units 2nd sem (without evaluations)  76518 non-null  int64  \n",
            " 34  Unemployment rate                               76518 non-null  float64\n",
            " 35  Inflation rate                                  76518 non-null  float64\n",
            " 36  GDP                                             76518 non-null  float64\n",
            " 37  Target                                          76518 non-null  object \n",
            "dtypes: float64(7), int64(30), object(1)\n",
            "memory usage: 22.2+ MB\n"
          ]
        }
      ],
      "source": [
        "train.info()"
      ]
    },
    {
      "cell_type": "code",
      "execution_count": 83,
      "metadata": {
        "colab": {
          "base_uri": "https://localhost:8080/"
        },
        "id": "_M6JDYkQOERC",
        "outputId": "cf88ec7b-5db8-44fc-e478-d5ad067cf019"
      },
      "outputs": [
        {
          "data": {
            "text/plain": [
              "Index(['id', 'Marital status', 'Application mode', 'Application order',\n",
              "       'Course', 'Daytime/evening attendance', 'Previous qualification',\n",
              "       'Previous qualification (grade)', 'Nacionality',\n",
              "       'Mother's qualification', 'Father's qualification',\n",
              "       'Mother's occupation', 'Father's occupation', 'Admission grade',\n",
              "       'Displaced', 'Educational special needs', 'Debtor',\n",
              "       'Tuition fees up to date', 'Gender', 'Scholarship holder',\n",
              "       'Age at enrollment', 'International',\n",
              "       'Curricular units 1st sem (credited)',\n",
              "       'Curricular units 1st sem (enrolled)',\n",
              "       'Curricular units 1st sem (evaluations)',\n",
              "       'Curricular units 1st sem (approved)',\n",
              "       'Curricular units 1st sem (grade)',\n",
              "       'Curricular units 1st sem (without evaluations)',\n",
              "       'Curricular units 2nd sem (credited)',\n",
              "       'Curricular units 2nd sem (enrolled)',\n",
              "       'Curricular units 2nd sem (evaluations)',\n",
              "       'Curricular units 2nd sem (approved)',\n",
              "       'Curricular units 2nd sem (grade)',\n",
              "       'Curricular units 2nd sem (without evaluations)', 'Unemployment rate',\n",
              "       'Inflation rate', 'GDP'],\n",
              "      dtype='object')"
            ]
          },
          "execution_count": 83,
          "metadata": {},
          "output_type": "execute_result"
        }
      ],
      "source": [
        "num_cols = train._get_numeric_data().columns\n",
        "num_cols"
      ]
    },
    {
      "cell_type": "code",
      "execution_count": 84,
      "metadata": {
        "colab": {
          "base_uri": "https://localhost:8080/"
        },
        "id": "BYMebXYeQmc5",
        "outputId": "8192f049-9930-4791-c2f9-f2ee08c35052"
      },
      "outputs": [
        {
          "name": "stdout",
          "output_type": "stream",
          "text": [
            "<class 'pandas.core.frame.DataFrame'>\n",
            "RangeIndex: 51012 entries, 0 to 51011\n",
            "Data columns (total 37 columns):\n",
            " #   Column                                          Non-Null Count  Dtype  \n",
            "---  ------                                          --------------  -----  \n",
            " 0   id                                              51012 non-null  int64  \n",
            " 1   Marital status                                  51012 non-null  int64  \n",
            " 2   Application mode                                51012 non-null  int64  \n",
            " 3   Application order                               51012 non-null  int64  \n",
            " 4   Course                                          51012 non-null  int64  \n",
            " 5   Daytime/evening attendance                      51012 non-null  int64  \n",
            " 6   Previous qualification                          51012 non-null  int64  \n",
            " 7   Previous qualification (grade)                  51012 non-null  float64\n",
            " 8   Nacionality                                     51012 non-null  int64  \n",
            " 9   Mother's qualification                          51012 non-null  int64  \n",
            " 10  Father's qualification                          51012 non-null  int64  \n",
            " 11  Mother's occupation                             51012 non-null  int64  \n",
            " 12  Father's occupation                             51012 non-null  int64  \n",
            " 13  Admission grade                                 51012 non-null  float64\n",
            " 14  Displaced                                       51012 non-null  int64  \n",
            " 15  Educational special needs                       51012 non-null  int64  \n",
            " 16  Debtor                                          51012 non-null  int64  \n",
            " 17  Tuition fees up to date                         51012 non-null  int64  \n",
            " 18  Gender                                          51012 non-null  int64  \n",
            " 19  Scholarship holder                              51012 non-null  int64  \n",
            " 20  Age at enrollment                               51012 non-null  int64  \n",
            " 21  International                                   51012 non-null  int64  \n",
            " 22  Curricular units 1st sem (credited)             51012 non-null  int64  \n",
            " 23  Curricular units 1st sem (enrolled)             51012 non-null  int64  \n",
            " 24  Curricular units 1st sem (evaluations)          51012 non-null  int64  \n",
            " 25  Curricular units 1st sem (approved)             51012 non-null  int64  \n",
            " 26  Curricular units 1st sem (grade)                51012 non-null  float64\n",
            " 27  Curricular units 1st sem (without evaluations)  51012 non-null  int64  \n",
            " 28  Curricular units 2nd sem (credited)             51012 non-null  int64  \n",
            " 29  Curricular units 2nd sem (enrolled)             51012 non-null  int64  \n",
            " 30  Curricular units 2nd sem (evaluations)          51012 non-null  int64  \n",
            " 31  Curricular units 2nd sem (approved)             51012 non-null  int64  \n",
            " 32  Curricular units 2nd sem (grade)                51012 non-null  float64\n",
            " 33  Curricular units 2nd sem (without evaluations)  51012 non-null  int64  \n",
            " 34  Unemployment rate                               51012 non-null  float64\n",
            " 35  Inflation rate                                  51012 non-null  float64\n",
            " 36  GDP                                             51012 non-null  float64\n",
            "dtypes: float64(7), int64(30)\n",
            "memory usage: 14.4 MB\n"
          ]
        }
      ],
      "source": [
        "test.info()"
      ]
    },
    {
      "cell_type": "code",
      "execution_count": 85,
      "metadata": {
        "execution": {
          "iopub.execute_input": "2024-06-21T15:02:05.227343Z",
          "iopub.status.busy": "2024-06-21T15:02:05.227037Z",
          "iopub.status.idle": "2024-06-21T15:02:05.258145Z",
          "shell.execute_reply": "2024-06-21T15:02:05.256913Z",
          "shell.execute_reply.started": "2024-06-21T15:02:05.227318Z"
        },
        "id": "9RwBvZZpFfeM",
        "trusted": true
      },
      "outputs": [],
      "source": [
        "cat_features = [\n",
        "    'Marital status',\n",
        "    'Application mode',\n",
        "    'Course',\n",
        "    'Previous qualification',\n",
        "    'Nacionality',\n",
        "    \"Mother's qualification\",\n",
        "    \"Father's qualification\",\n",
        "    \"Mother's occupation\",\n",
        "    \"Father's occupation\"\n",
        "]\n",
        "\n"
      ]
    },
    {
      "cell_type": "code",
      "execution_count": 86,
      "metadata": {
        "colab": {
          "base_uri": "https://localhost:8080/"
        },
        "id": "iM3ERD5Hbmr5",
        "outputId": "dab9401d-27fb-4257-b53b-63a744503593"
      },
      "outputs": [
        {
          "data": {
            "text/plain": [
              "array(['Graduate', 'Dropout', 'Enrolled'], dtype=object)"
            ]
          },
          "execution_count": 86,
          "metadata": {},
          "output_type": "execute_result"
        }
      ],
      "source": [
        "train['Target'].unique()"
      ]
    },
    {
      "cell_type": "code",
      "execution_count": 87,
      "metadata": {
        "colab": {
          "base_uri": "https://localhost:8080/"
        },
        "id": "v-lufAHUSPoh",
        "outputId": "d8ca42d3-6868-45a6-af8d-8fb61dc64f14"
      },
      "outputs": [
        {
          "name": "stdout",
          "output_type": "stream",
          "text": [
            "Marital status\n",
            "6\n",
            "Application mode\n",
            "22\n",
            "Course\n",
            "19\n",
            "Previous qualification\n",
            "21\n",
            "Nacionality\n",
            "18\n",
            "Mother's qualification\n",
            "35\n",
            "Father's qualification\n",
            "39\n",
            "Mother's occupation\n",
            "40\n",
            "Father's occupation\n",
            "56\n"
          ]
        }
      ],
      "source": [
        "for i in cat_features:\n",
        "  print(i)\n",
        "  print(train[i].nunique())"
      ]
    },
    {
      "cell_type": "markdown",
      "metadata": {
        "id": "MLEGw76VWw3e"
      },
      "source": [
        "Split which feature that neede to one hot or label encoding"
      ]
    },
    {
      "cell_type": "code",
      "execution_count": 88,
      "metadata": {
        "id": "qa7a24OCXEvp"
      },
      "outputs": [],
      "source": [
        "label_features = [\"Mother's qualification\",\n",
        "    \"Father's qualification\",\n",
        "    \"Mother's occupation\",\n",
        "    \"Father's occupation\",\n",
        "    'Marital status']\n",
        "onehot_features = ['Application mode',\n",
        "    'Course',\n",
        "    'Previous qualification',\n",
        "    'Nacionality']"
      ]
    },
    {
      "cell_type": "code",
      "execution_count": 89,
      "metadata": {
        "colab": {
          "base_uri": "https://localhost:8080/",
          "height": 356
        },
        "id": "GHBoQ6qFPc1W",
        "outputId": "5d124486-99d5-4c46-ddf8-a19edd3ce747"
      },
      "outputs": [],
      "source": [
        "# # One-hot encoding\n",
        "# for cat in onehot_features:\n",
        "#     onehots = pd.get_dummies(test[cat], prefix=cat)\n",
        "#     test = test.join(onehots)\n",
        "\n",
        "# for cat in onehot_features:\n",
        "#     onehots_tr = pd.get_dummies(train[cat], prefix=cat)\n",
        "#     train = train.join(onehots_tr)\n",
        "\n",
        "# # Drop original columns\n",
        "# encode_data_test = test.drop(columns=onehot_features).copy()\n",
        "\n",
        "# encode_data_train = train.drop(columns=onehot_features).copy()\n",
        "# # Fill NaN values with 0\n",
        "# encode_data_test.fillna(0, inplace=True)\n",
        "# bool_cols = encode_data_test.select_dtypes(include='bool').columns.tolist()\n",
        "# encode_data_test[bool_cols] = encode_data_test[bool_cols].astype(float)\n",
        "\n",
        "# encode_data_train.fillna(0, inplace=True)\n",
        "# bool_cols = encode_data_train.select_dtypes(include='bool').columns.tolist()\n",
        "# encode_data_train[bool_cols] = encode_data_train[bool_cols].astype(float)"
      ]
    },
    {
      "cell_type": "code",
      "execution_count": 90,
      "metadata": {
        "id": "kptiWEfCwMLK"
      },
      "outputs": [],
      "source": [
        "# for col in cat_features:\n",
        "#     train[col] = train[col].astype('category')\n",
        "#     test[col] = test[col].astype('category')"
      ]
    },
    {
      "cell_type": "code",
      "execution_count": 91,
      "metadata": {},
      "outputs": [],
      "source": [
        "# one_hot = OneHotEncoder()"
      ]
    },
    {
      "cell_type": "code",
      "execution_count": 92,
      "metadata": {
        "id": "mHQ4b0CHSIv1"
      },
      "outputs": [],
      "source": [
        "# encode_data_train.head()"
      ]
    },
    {
      "cell_type": "code",
      "execution_count": 93,
      "metadata": {
        "execution": {
          "iopub.execute_input": "2024-06-21T15:02:05.259525Z",
          "iopub.status.busy": "2024-06-21T15:02:05.259197Z",
          "iopub.status.idle": "2024-06-21T15:02:05.270957Z",
          "shell.execute_reply": "2024-06-21T15:02:05.269932Z",
          "shell.execute_reply.started": "2024-06-21T15:02:05.259494Z"
        },
        "id": "ng_oW4EZFfeN",
        "trusted": true
      },
      "outputs": [],
      "source": [
        "# X = encode_data_train.drop(TARGET, axis=1)\n",
        "# y = encode_data_train[TARGET]"
      ]
    },
    {
      "cell_type": "code",
      "execution_count": 94,
      "metadata": {},
      "outputs": [],
      "source": [
        "X = train.drop(TARGET, axis=1)\n",
        "y = train[TARGET]"
      ]
    },
    {
      "cell_type": "code",
      "execution_count": 95,
      "metadata": {
        "id": "7u8GQA67fVC2"
      },
      "outputs": [
        {
          "data": {
            "text/plain": [
              "0    Graduate\n",
              "1     Dropout\n",
              "2     Dropout\n",
              "3    Enrolled\n",
              "4    Graduate\n",
              "Name: Target, dtype: object"
            ]
          },
          "execution_count": 95,
          "metadata": {},
          "output_type": "execute_result"
        }
      ],
      "source": [
        "y.head()"
      ]
    },
    {
      "cell_type": "code",
      "execution_count": 96,
      "metadata": {
        "id": "xIox8h3gGdQ1"
      },
      "outputs": [],
      "source": [
        "smote = SMOTE(random_state=42)\n",
        "X_resampled, y_resampled = smote.fit_resample(X, y)"
      ]
    },
    {
      "cell_type": "code",
      "execution_count": 97,
      "metadata": {
        "id": "gg4spEEQe7i9"
      },
      "outputs": [
        {
          "data": {
            "text/plain": [
              "0    Graduate\n",
              "1     Dropout\n",
              "2     Dropout\n",
              "3    Enrolled\n",
              "4    Graduate\n",
              "Name: Target, dtype: object"
            ]
          },
          "execution_count": 97,
          "metadata": {},
          "output_type": "execute_result"
        }
      ],
      "source": [
        "y_resampled.head()"
      ]
    },
    {
      "cell_type": "code",
      "execution_count": 98,
      "metadata": {
        "id": "kl1WmW1jgCiU"
      },
      "outputs": [],
      "source": [
        "label_encoder = LabelEncoder()\n",
        "y_resampled = label_encoder.fit_transform(y_resampled)"
      ]
    },
    {
      "cell_type": "code",
      "execution_count": 99,
      "metadata": {},
      "outputs": [],
      "source": [
        "scaler = StandardScaler()\n",
        "scaler.fit(X_resampled)\n",
        "X_train_scaled = pd.DataFrame(scaler.transform(X_resampled), columns=X_resampled.columns)"
      ]
    },
    {
      "cell_type": "code",
      "execution_count": 100,
      "metadata": {},
      "outputs": [],
      "source": [
        "# one_hot = OneHotEncoder()\n",
        "# one_hot.fit(X_train_scaled[onehot_features])\n",
        "# one_hot_encoded = one_hot.transform(X_train_scaled[onehot_features]).toarray()"
      ]
    },
    {
      "cell_type": "code",
      "execution_count": 101,
      "metadata": {
        "execution": {
          "iopub.execute_input": "2024-06-21T15:02:05.298068Z",
          "iopub.status.busy": "2024-06-21T15:02:05.297783Z",
          "iopub.status.idle": "2024-06-21T15:02:05.306414Z",
          "shell.execute_reply": "2024-06-21T15:02:05.305495Z",
          "shell.execute_reply.started": "2024-06-21T15:02:05.298044Z"
        },
        "id": "JaCsu9IzFfeO",
        "trusted": true
      },
      "outputs": [],
      "source": [
        "# # Split the data into training and validation sets\n",
        "# X_train, X_val, y_train, y_val = train_test_split(X_train_scaled, y_resampled, test_size=0.2, random_state=42)\n",
        "\n"
      ]
    },
    {
      "cell_type": "code",
      "execution_count": 102,
      "metadata": {
        "execution": {
          "iopub.execute_input": "2024-06-21T15:19:55.690623Z",
          "iopub.status.busy": "2024-06-21T15:19:55.690187Z",
          "iopub.status.idle": "2024-06-21T15:19:55.703536Z",
          "shell.execute_reply": "2024-06-21T15:19:55.702503Z",
          "shell.execute_reply.started": "2024-06-21T15:19:55.690591Z"
        },
        "id": "PYf2UroQFfeP",
        "trusted": true
      },
      "outputs": [],
      "source": [
        "SEED = 27\n",
        "xgb_params = {\n",
        "    'n_jobs': -1,\n",
        "    'max_bin': 86,\n",
        "    'verbosity': 0,\n",
        "    'max_depth': 5,\n",
        "    'max_leaves': 64,\n",
        "    'booster': 'gbtree',\n",
        "    'n_estimators': 1539,\n",
        "    'random_state': SEED,\n",
        "    'enable_categorical': True,\n",
        "    'gamma': 0.9069384135972282,\n",
        "    'reg_alpha': 9.076826031603096,\n",
        "    'subsample': 0.9335856723937552,\n",
        "    'reg_lambda': 3.7191495119106976,\n",
        "    'max_delta_step': 1.1802158903460869,\n",
        "    'min_child_weight': 8.745168792677534,\n",
        "    'colsample_bynode': 0.8390631221126779,\n",
        "    'colsample_bytree': 0.5534666374509267,\n",
        "    'colsample_bylevel': 0.5695267422612745,\n",
        "}\n",
        "\n",
        "cb_params = {\n",
        "    'depth': 9,\n",
        "    'verbose': False,\n",
        "    'thread_count': -1,\n",
        "    'iterations': 1830,\n",
        "    'border_count': 200,\n",
        "    'random_state': SEED,\n",
        "    'min_child_samples': 4,\n",
        "    'bootstrap_type': 'Bernoulli',  # Supported type\n",
        "    'grow_policy': 'Depthwise',\n",
        "    'l2_leaf_reg': 4.349614487163372,\n",
        "    'random_strength': 0.16489500172653238,\n",
        "    'cat_features': cat_features,\n",
        "    'task_type': 'GPU',  # Ensure GPU usage\n",
        "    'devices': '0'  # Specify GPU device\n",
        "}\n",
        "\n",
        "lgbm_params = {\n",
        "    'n_jobs': -1,\n",
        "    'verbose': -1,\n",
        "    'max_depth': 77,\n",
        "    'num_leaves': 42,\n",
        "    'subsample_freq': 8,\n",
        "    'n_estimators': 169,\n",
        "    'random_state': SEED,\n",
        "    'min_child_samples': 199,\n",
        "    'device': 'gpu',\n",
        "    'subsample': 0.9178993412905838,\n",
        "    'reg_alpha': 0.9200214666236493,\n",
        "    'reg_lambda': 0.2652568189927319,\n",
        "    'min_child_weight': 0.4410010971781976,\n",
        "    'colsample_bytree': 0.35379935570036725,\n",
        "\n",
        "}\n",
        "\n",
        "hgb_params = {\n",
        "    'verbose': 0,\n",
        "    'max_depth': 4,\n",
        "    'max_bins': 250,\n",
        "    'max_iter': 1522,\n",
        "    'max_leaf_nodes': 92,\n",
        "    'random_state': SEED,\n",
        "    'min_samples_leaf': 44,\n",
        "    'l2_regularization': 0.4495943539321024,\n",
        "}\n",
        "\n",
        "gb_params = {\n",
        "    'verbose': 0,\n",
        "    'max_depth': 4,\n",
        "    'subsample': 0.9,\n",
        "    'n_estimators': 600,\n",
        "    'random_state': SEED,\n",
        "    'learning_rate': 0.05,\n",
        "}\n",
        "\n",
        "rf_params = {\n",
        "    'verbose': 0,\n",
        "    'max_depth': None,\n",
        "    'n_estimators': 1200,\n",
        "    'random_state': SEED,\n",
        "}"
      ]
    },
    {
      "cell_type": "code",
      "execution_count": 103,
      "metadata": {
        "execution": {
          "iopub.execute_input": "2024-06-21T15:19:56.849024Z",
          "iopub.status.busy": "2024-06-21T15:19:56.848323Z",
          "iopub.status.idle": "2024-06-21T15:31:51.852226Z",
          "shell.execute_reply": "2024-06-21T15:31:51.851239Z",
          "shell.execute_reply.started": "2024-06-21T15:19:56.848996Z"
        },
        "id": "uzG7jnBTFfeP",
        "trusted": true
      },
      "outputs": [],
      "source": [
        "from sklearn.ensemble import VotingClassifier, HistGradientBoostingClassifier, GradientBoostingClassifier, RandomForestClassifier\n",
        "from xgboost import XGBClassifier\n",
        "from catboost import CatBoostClassifier\n",
        "from lightgbm import LGBMClassifier\n",
        "# Initialize individual models with GPU for XGBoost, LightGBM, and CatBoost\n",
        "xgboost = XGBClassifier(**xgb_params)\n",
        "lightgbm = LGBMClassifier(**lgbm_params)\n",
        "# catboost = CatBoostClassifier(**cb_params)\n",
        "hist_gradient_boosting = HistGradientBoostingClassifier(**hgb_params)\n",
        "gradient_boosting = GradientBoostingClassifier(**gb_params)\n",
        "random_forest = RandomForestClassifier(**rf_params)\n",
        "\n",
        "# Create a VotingClassifier with the models\n",
        "voting_clf = VotingClassifier(\n",
        "    estimators=[\n",
        "        ('xgb', xgboost),\n",
        "        # ('cat', catboost),\n",
        "        ('lgb', lightgbm),\n",
        "        ('hgb', hist_gradient_boosting),\n",
        "        ('gb', gradient_boosting),\n",
        "        ('rf', random_forest)\n",
        "    ],\n",
        "    voting='soft'\n",
        ")\n",
        "\n",
        "# Train the VotingClassifier\n",
        "voting_clf.fit(X_resampled, y_resampled)\n",
        "\n",
        "# Predict and evaluate\n",
        "# y_pred = voting_clf.predict(X_val)\n",
        "# accuracy = accuracy_score(y_val, y_pred)\n",
        "# print(f\"Voting Classifier Accuracy: {accuracy:.4f}\")\n",
        "# print(classification_report(y_val, y_pred))"
      ]
    },
    {
      "cell_type": "code",
      "execution_count": 75,
      "metadata": {
        "execution": {
          "iopub.execute_input": "2024-06-21T15:36:46.847458Z",
          "iopub.status.busy": "2024-06-21T15:36:46.847078Z",
          "iopub.status.idle": "2024-06-21T15:37:07.558881Z",
          "shell.execute_reply": "2024-06-21T15:37:07.557937Z",
          "shell.execute_reply.started": "2024-06-21T15:36:46.847428Z"
        },
        "id": "_cygLryLFfeQ",
        "trusted": true
      },
      "outputs": [
        {
          "name": "stdout",
          "output_type": "stream",
          "text": [
            "Submission file created: submission.csv\n"
          ]
        }
      ],
      "source": [
        "import pandas as pd\n",
        "\n",
        "test = pd.read_csv('D:/Local Disk C/Python project/src/Tugas/EAS PSD/test.csv')\n",
        "# Ensure the test data has the same preprocessing as the training data\n",
        "# for col in cat_features:\n",
        "#     test[col] = test[col].astype('category')\n",
        "\n",
        "# Make predictions on the test data\n",
        "test_predictions = voting_clf.predict(test)\n",
        "\n",
        "# Load the sample submission file to ensure the correct format\n",
        "sample_submission = pd.read_csv('D:/Local Disk C/Python project/src/Tugas/EAS PSD/sample_submission.csv')\n",
        "# Create the submission DataFrame\n",
        "submission = pd.DataFrame({\n",
        "    'id': sample_submission['id'],  # Ensure the 'id' column matches the sample submission\n",
        "    'Target': label_encoder.inverse_transform(test_predictions)  # Inverse transform if necessary\n",
        "    \n",
        "})\n",
        "# submission['Target'] = submission['Target'].replace('Graduate',1).replace('Dropout',0).replace('Enrolled',2)\n",
        "# Save the submission file\n",
        "submission.to_csv('submission.csv', index=False)\n",
        "\n",
        "print(\"Submission file created: submission.csv\")\n"
      ]
    },
    {
      "cell_type": "code",
      "execution_count": null,
      "metadata": {
        "id": "6UhE6tGuFfeQ"
      },
      "outputs": [],
      "source": []
    },
    {
      "cell_type": "code",
      "execution_count": null,
      "metadata": {
        "id": "0LsWkTenFfeR"
      },
      "outputs": [],
      "source": []
    }
  ],
  "metadata": {
    "accelerator": "GPU",
    "colab": {
      "gpuType": "T4",
      "provenance": []
    },
    "kaggle": {
      "accelerator": "gpu",
      "dataSources": [
        {
          "databundleVersionId": 8710574,
          "sourceId": 73290,
          "sourceType": "competition"
        }
      ],
      "dockerImageVersionId": 30733,
      "isGpuEnabled": true,
      "isInternetEnabled": true,
      "language": "python",
      "sourceType": "notebook"
    },
    "kernelspec": {
      "display_name": "Python 3",
      "name": "python3"
    },
    "language_info": {
      "codemirror_mode": {
        "name": "ipython",
        "version": 3
      },
      "file_extension": ".py",
      "mimetype": "text/x-python",
      "name": "python",
      "nbconvert_exporter": "python",
      "pygments_lexer": "ipython3",
      "version": "3.11.9"
    }
  },
  "nbformat": 4,
  "nbformat_minor": 0
}
